{
 "cells": [
  {
   "cell_type": "markdown",
   "metadata": {},
   "source": [
    "# Getting Started - MNIST\n",
    "The classical \"Hello World\" program for neural networks with some modifications (to how the data is presented to us) to the original [MNIST dataset](http://yann.lecun.com/exdb/mnist/)\n",
    "\n",
    "Our plan of action:\n",
    "1. Convert the .csv values into an tensorflow friendly format\n",
    "2. Use convets as described in the [LeNet-5 model](http://yann.lecun.com/exdb/lenet/) to train our model\n",
    "\n",
    "This should be pretty straightforward as tensorflow makes this really easy for us. The trickier part is converting the data into tensors as the .csv data contains images laid out in columns."
   ]
  },
  {
   "cell_type": "code",
   "execution_count": 1,
   "metadata": {
    "collapsed": true
   },
   "outputs": [],
   "source": [
    "# Imports\n",
    "import os\n",
    "import csv\n",
    "\n",
    "import pandas as pd\n",
    "import numpy as np\n",
    "import tensorflow as tf"
   ]
  },
  {
   "cell_type": "code",
   "execution_count": null,
   "metadata": {
    "collapsed": true
   },
   "outputs": [],
   "source": []
  }
 ],
 "metadata": {
  "kernelspec": {
   "display_name": "Python 3",
   "language": "python",
   "name": "python3"
  },
  "language_info": {
   "codemirror_mode": {
    "name": "ipython",
    "version": 3
   },
   "file_extension": ".py",
   "mimetype": "text/x-python",
   "name": "python",
   "nbconvert_exporter": "python",
   "pygments_lexer": "ipython3",
   "version": "3.6.1"
  }
 },
 "nbformat": 4,
 "nbformat_minor": 2
}
