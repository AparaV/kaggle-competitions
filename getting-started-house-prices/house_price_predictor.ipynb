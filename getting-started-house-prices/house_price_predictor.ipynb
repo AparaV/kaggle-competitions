{
 "cells": [
  {
   "cell_type": "markdown",
   "metadata": {},
   "source": [
    "# Housing Prices: Advanced Regression\n"
   ]
  },
  {
   "cell_type": "code",
   "execution_count": 21,
   "metadata": {
    "collapsed": true
   },
   "outputs": [],
   "source": [
    "import random\n",
    "import os\n",
    "import numpy as np\n",
    "import pandas as pd\n",
    "import tensorflow as tf"
   ]
  },
  {
   "cell_type": "code",
   "execution_count": 19,
   "metadata": {
    "collapsed": true
   },
   "outputs": [],
   "source": [
    "def encode_features(df_train, df_test):\n",
    "    '''\n",
    "    Takes columns whose values are strings (objects)\n",
    "    and categorizes them into discrete numbers.\n",
    "    This makes it feasible to use regression\n",
    "    '''\n",
    "    features = list(df_train.select_dtypes(include=['object']).columns)\n",
    "    df_combined = pd.concat([df_train[features], df_test[features]])\n",
    "\n",
    "    for feature in features:\n",
    "        unique_categories = list(df_combined[feature].unique())\n",
    "        map_dict = {}\n",
    "        for idx, category in enumerate(unique_categories):\n",
    "            map_dict[category] = idx + 1\n",
    "        df_train[feature] = df_train[feature].map(map_dict)\n",
    "        df_test[feature] = df_test[feature].map(map_dict)\n",
    "    \n",
    "    return df_train, df_test\n",
    "\n",
    "\n",
    "def cleanup(df):\n",
    "    '''\n",
    "    Cleans data\n",
    "        1. Drops unwanted features\n",
    "        2. Fills missing values with the mode\n",
    "    '''\n",
    "    to_drop = ['MiscFeature', 'MiscVal', 'GarageArea', 'GarageYrBlt']\n",
    "    df = df.drop(to_drop, axis=1)\n",
    "    for column in df.columns:\n",
    "        x = df[column].dropna().value_counts().index[0]\n",
    "        df = df.fillna(x)\n",
    "    return df"
   ]
  },
  {
   "cell_type": "code",
   "execution_count": 46,
   "metadata": {},
   "outputs": [],
   "source": [
    "data_dir = 'data'\n",
    "\n",
    "train_dataset = pd.read_csv(os.path.join(data_dir, 'train.csv'))\n",
    "test_dataset = pd.read_csv(os.path.join(data_dir, 'test.csv'))\n",
    "\n",
    "train_dataset = cleanup(train_dataset)\n",
    "test_dataset = cleanup(test_dataset)\n",
    "train_dataset, test_dataset = encode_features(train_dataset, test_dataset)"
   ]
  },
  {
   "cell_type": "code",
   "execution_count": 47,
   "metadata": {},
   "outputs": [],
   "source": [
    "y_train = train_dataset['SalePrice'].as_matrix()\n",
    "x_train = train_dataset.drop(['SalePrice', 'Id'], axis=1).as_matrix()"
   ]
  },
  {
   "cell_type": "markdown",
   "metadata": {
    "collapsed": true
   },
   "source": [
    "## Training with only Linear Regression\n",
    "Using stochasitc gradient descent with batch size of 16"
   ]
  },
  {
   "cell_type": "code",
   "execution_count": 52,
   "metadata": {},
   "outputs": [],
   "source": [
    "batch_size = 16\n",
    "train_size = np.shape(x_train)[0]\n",
    "num_features = np.shape(x_train)[1]\n",
    "\n",
    "graph = tf.Graph()\n",
    "with graph.as_default():\n",
    "    \n",
    "    # Input\n",
    "    \n",
    "    # Variables\n",
    "    \n",
    "    # Model\n",
    "    \n",
    "    # Loss Computation\n",
    "    \n",
    "    # Optimizer\n",
    "    \n",
    "    # Predictions\n",
    "    test = tf.zeros(5)"
   ]
  },
  {
   "cell_type": "markdown",
   "metadata": {},
   "source": [
    "## Training with Neural Networks and Regression"
   ]
  },
  {
   "cell_type": "code",
   "execution_count": null,
   "metadata": {
    "collapsed": true
   },
   "outputs": [],
   "source": []
  }
 ],
 "metadata": {
  "kernelspec": {
   "display_name": "Python 3",
   "language": "python",
   "name": "python3"
  },
  "language_info": {
   "codemirror_mode": {
    "name": "ipython",
    "version": 3
   },
   "file_extension": ".py",
   "mimetype": "text/x-python",
   "name": "python",
   "nbconvert_exporter": "python",
   "pygments_lexer": "ipython3",
   "version": "3.6.1"
  }
 },
 "nbformat": 4,
 "nbformat_minor": 2
}
