{
 "cells": [
  {
   "cell_type": "markdown",
   "metadata": {},
   "source": [
    "# Housing Prices: Advanced Regression\n"
   ]
  },
  {
   "cell_type": "code",
   "execution_count": 12,
   "metadata": {
    "collapsed": true
   },
   "outputs": [],
   "source": [
    "import random\n",
    "import os\n",
    "import pandas as pd\n",
    "import tensorflow as tf"
   ]
  },
  {
   "cell_type": "code",
   "execution_count": 19,
   "metadata": {
    "collapsed": true
   },
   "outputs": [],
   "source": [
    "def encode_features(df_train, df_test):\n",
    "    '''\n",
    "    Takes columns whose values are strings (objects)\n",
    "    and categorizes them into discrete numbers.\n",
    "    This makes it feasible to use regression\n",
    "    '''\n",
    "    features = list(df_train.select_dtypes(include=['object']).columns)\n",
    "    df_combined = pd.concat([df_train[features], df_test[features]])\n",
    "\n",
    "    for feature in features:\n",
    "        unique_categories = list(df_combined[feature].unique())\n",
    "        map_dict = {}\n",
    "        for idx, category in enumerate(unique_categories):\n",
    "            map_dict[category] = idx + 1\n",
    "        df_train[feature] = df_train[feature].map(map_dict)\n",
    "        df_test[feature] = df_test[feature].map(map_dict)\n",
    "    \n",
    "    return df_train, df_test\n",
    "\n",
    "\n",
    "def cleanup(df):\n",
    "    '''\n",
    "    Cleans data\n",
    "        1. Drops unwanted features\n",
    "        2. Fills missing values with the mode\n",
    "    '''\n",
    "    to_drop = ['MiscFeature', 'MiscVal', 'GarageArea', 'GarageYrBlt']\n",
    "    df = df.drop(to_drop, axis=1)\n",
    "    for column in df.columns:\n",
    "        x = df[column].dropna().value_counts().index[0]\n",
    "        df = df.fillna(x)\n",
    "    return df"
   ]
  },
  {
   "cell_type": "code",
   "execution_count": 15,
   "metadata": {},
   "outputs": [],
   "source": [
    "data_dir = 'data'\n",
    "\n",
    "train_dataset = pd.read_csv(os.path.join(data_dir, 'train.csv'))\n",
    "test_dataset = pd.read_csv(os.path.join(data_dir, 'test.csv'))\n",
    "\n",
    "train_dataset = cleanup(train_dataset)\n",
    "test_dataset = cleanup(test_dataset)\n",
    "train_dataset, test_dataset = encode_features(train_dataset, test_dataset)"
   ]
  },
  {
   "cell_type": "code",
   "execution_count": 18,
   "metadata": {},
   "outputs": [
    {
     "name": "stdout",
     "output_type": "stream",
     "text": [
      "0       1\n",
      "1       2\n",
      "2       1\n",
      "3       1\n",
      "4       1\n",
      "5       3\n",
      "6       2\n",
      "7       1\n",
      "8       3\n",
      "9       4\n",
      "10      2\n",
      "11      1\n",
      "12      2\n",
      "13      2\n",
      "14      2\n",
      "15      4\n",
      "16      2\n",
      "17      2\n",
      "18      2\n",
      "19      2\n",
      "20      1\n",
      "21      4\n",
      "22      2\n",
      "23      2\n",
      "24      2\n",
      "25      2\n",
      "26      2\n",
      "27      2\n",
      "28      2\n",
      "29      2\n",
      "       ..\n",
      "1430    1\n",
      "1431    2\n",
      "1432    2\n",
      "1433    1\n",
      "1434    2\n",
      "1435    2\n",
      "1436    2\n",
      "1437    2\n",
      "1438    2\n",
      "1439    6\n",
      "1440    8\n",
      "1441    2\n",
      "1442    1\n",
      "1443    4\n",
      "1444    2\n",
      "1445    5\n",
      "1446    2\n",
      "1447    1\n",
      "1448    1\n",
      "1449    5\n",
      "1450    1\n",
      "1451    2\n",
      "1452    6\n",
      "1453    2\n",
      "1454    2\n",
      "1455    1\n",
      "1456    2\n",
      "1457    1\n",
      "1458    2\n",
      "1459    2\n",
      "Name: HouseStyle, Length: 1460, dtype: int64\n"
     ]
    }
   ],
   "source": []
  },
  {
   "cell_type": "code",
   "execution_count": null,
   "metadata": {
    "collapsed": true
   },
   "outputs": [],
   "source": []
  }
 ],
 "metadata": {
  "kernelspec": {
   "display_name": "Python 3",
   "language": "python",
   "name": "python3"
  },
  "language_info": {
   "codemirror_mode": {
    "name": "ipython",
    "version": 3
   },
   "file_extension": ".py",
   "mimetype": "text/x-python",
   "name": "python",
   "nbconvert_exporter": "python",
   "pygments_lexer": "ipython3",
   "version": "3.6.1"
  }
 },
 "nbformat": 4,
 "nbformat_minor": 2
}
