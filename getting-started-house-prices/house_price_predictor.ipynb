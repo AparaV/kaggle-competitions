{
 "cells": [
  {
   "cell_type": "markdown",
   "metadata": {},
   "source": [
    "# Housing Prices: Advanced Regression\n"
   ]
  },
  {
   "cell_type": "code",
   "execution_count": 1,
   "metadata": {
    "collapsed": true
   },
   "outputs": [],
   "source": [
    "import random\n",
    "import os\n",
    "import csv\n",
    "import numpy as np\n",
    "import pandas as pd\n",
    "import tensorflow as tf\n",
    "import matplotlib.pyplot as plt\n",
    "\n",
    "%matplotlib inline"
   ]
  },
  {
   "cell_type": "code",
   "execution_count": 49,
   "metadata": {},
   "outputs": [],
   "source": [
    "def encode_features(df_train, df_test):\n",
    "    '''\n",
    "    Takes columns whose values are strings (objects)\n",
    "    and categorizes them into discrete numbers.\n",
    "    This makes it feasible to use regression\n",
    "    '''\n",
    "    features = list(df_train.select_dtypes(include=['object']).columns)\n",
    "    df_combined = pd.concat([df_train[features], df_test[features]])\n",
    "\n",
    "    for feature in features:\n",
    "        unique_categories = list(df_combined[feature].unique())\n",
    "        map_dict = {}\n",
    "        for idx, category in enumerate(unique_categories):\n",
    "            map_dict[category] = idx + 1\n",
    "        df_train[feature] = df_train[feature].map(map_dict)\n",
    "        df_test[feature] = df_test[feature].map(map_dict)\n",
    "    \n",
    "    return df_train, df_test\n",
    "\n",
    "\n",
    "def cleanup(df):\n",
    "    '''\n",
    "    Cleans data\n",
    "        1. Creates new features:\n",
    "            - total bathrooms = full + half bathrooms\n",
    "            - total porch area = closed + open porch area\n",
    "        2. Drops unwanted features\n",
    "        3. Fills missing values with the mode\n",
    "        4. Performs feature scaling\n",
    "    '''\n",
    "    to_drop = ['MiscFeature', 'MiscVal', 'GarageArea', 'GarageYrBlt', 'Street', 'Alley',\n",
    "              'LotShape', 'LandContour', 'LandSlope', 'RoofMatl', 'Exterior2nd', 'MasVnrType',\n",
    "              'MasVnrArea', 'BsmtCond', 'BsmtExposure', 'BsmtFinType1', 'BsmtFinType2',\n",
    "              'BsmtFinSF1', 'BsmtFinSF1', 'BsmtUnfSF', 'TotalBsmtSF', 'Heating', 'Electrical',\n",
    "              'LowQualFinSF', 'GrLivArea', 'BsmtFullBath', 'BsmtHalfBath', 'FullBath',\n",
    "              'HalfBath', 'KitchenQual', 'TotRmsAbvGrd', 'Functional', 'FireplaceQu',\n",
    "              'GarageType', 'GarageFinish', 'GarageQual', 'PavedDrive', 'WoodDeckSF', 'OpenPorchSF',\n",
    "              'EnclosedPorch', '3SsnPorch', 'ScreenPorch', 'PoolQC', 'MoSold']\n",
    "    df['Bathrooms'] = df['FullBath'] + df['HalfBath']\n",
    "    df['PorchSF'] = df['EnclosedPorch'] + df['OpenPorchSF']\n",
    "    df = df.drop(to_drop, axis=1)\n",
    "    for column in df.columns:\n",
    "        x = df[column].dropna().value_counts().index[0]\n",
    "        df = df.fillna(x)\n",
    "        if df[column].dtype != 'object' and column != 'SalePrice':\n",
    "            m = df[column].min()\n",
    "            M = df[column].max()\n",
    "            Range = M - m\n",
    "            df[column] = (df[column] - m) / Range\n",
    "    return df"
   ]
  },
  {
   "cell_type": "code",
   "execution_count": 113,
   "metadata": {
    "collapsed": true
   },
   "outputs": [],
   "source": [
    "data_dir = 'data'\n",
    "\n",
    "train_dataset = pd.read_csv(os.path.join(data_dir, 'train.csv'))\n",
    "test_dataset = pd.read_csv(os.path.join(data_dir, 'test.csv'))\n",
    "\n",
    "train_dataset = cleanup(train_dataset)\n",
    "test_dataset = cleanup(test_dataset)\n",
    "train_dataset, test_dataset = encode_features(train_dataset, test_dataset)"
   ]
  },
  {
   "cell_type": "code",
   "execution_count": null,
   "metadata": {
    "collapsed": true
   },
   "outputs": [],
   "source": []
  },
  {
   "cell_type": "code",
   "execution_count": 51,
   "metadata": {},
   "outputs": [],
   "source": [
    "# Shuffle data\n",
    "train_dataset = train_dataset.sample(frac=1)\n",
    "# Split into training, validation, and testing datasets\n",
    "train, valid, test = np.split(train_dataset,\n",
    "                        [int(.6 * len(train_dataset)), int(.8 * len(train_dataset))])\n",
    "\n",
    "# Convert into numpy arrays\n",
    "x_train = train.drop(['SalePrice', 'Id'], axis=1).as_matrix().astype(np.float32)\n",
    "y_train = train['SalePrice'].as_matrix().astype(np.float32).reshape((np.shape(x_train)[0], 1))\n",
    "x_test = test.drop(['SalePrice', 'Id'], axis=1).as_matrix().astype(np.float32)\n",
    "y_test = test['SalePrice'].as_matrix().astype(np.float32).reshape((np.shape(x_test)[0], 1))\n",
    "x_valid = valid.drop(['SalePrice', 'Id'], axis=1).as_matrix().astype(np.float32)\n",
    "y_valid = valid['SalePrice'].as_matrix().astype(np.float32).reshape((np.shape(x_valid)[0], 1))"
   ]
  },
  {
   "cell_type": "markdown",
   "metadata": {
    "collapsed": true
   },
   "source": [
    "## Training with only Linear Regression"
   ]
  },
  {
   "cell_type": "code",
   "execution_count": 98,
   "metadata": {},
   "outputs": [],
   "source": [
    "train_size = np.shape(x_train)[0]\n",
    "valid_size = np.shape(x_valid)[0]\n",
    "test_size = np.shape(x_test)[0]\n",
    "num_features = np.shape(x_train)[1]\n",
    "\n",
    "graph = tf.Graph()\n",
    "with graph.as_default():\n",
    "    \n",
    "    # Input\n",
    "    tf_train_dataset = tf.constant(x_train, dtype=tf.float32)\n",
    "    tf_train_labels = tf.constant(y_train, dtype=tf.float32)\n",
    "    tf_valid_dataset = tf.constant(x_valid)\n",
    "    tf_test_dataset = tf.constant(x_test)\n",
    "    \n",
    "    # Variables\n",
    "    weights = tf.Variable(tf.truncated_normal([num_features, 1]), dtype=tf.float32, name=\"weights\")\n",
    "    biases = tf.Variable(tf.zeros([1]), dtype=tf.float32, name=\"biases\")\n",
    "    \n",
    "    # Loss Computation\n",
    "    train_prediction = tf.matmul(tf_train_dataset, weights) + biases\n",
    "    #log_label = tf.log(tf_train_labels + 1)\n",
    "    #log_pred = tf.log(train_prediction + 1)\n",
    "    loss = 0.5 * tf.reduce_mean(tf.square((tf_train_labels - train_prediction)), 0)\n",
    "    \n",
    "    # Optimizer\n",
    "    # Gradient descent optimizer with learning rate = alpha\n",
    "    alpha = tf.constant(0.01, dtype=tf.float64)\n",
    "    optimizer = tf.train.GradientDescentOptimizer(alpha).minimize(loss)\n",
    "    \n",
    "    # Predictions\n",
    "    valid_prediction = tf.matmul(tf_valid_dataset, weights) + biases\n",
    "    test_prediction = tf.matmul(tf_test_dataset, weights) + biases\n",
    "    \n",
    "    saver = tf.train.Saver()"
   ]
  },
  {
   "cell_type": "code",
   "execution_count": 100,
   "metadata": {},
   "outputs": [
    {
     "name": "stdout",
     "output_type": "stream",
     "text": [
      "Initialized\n",
      "Cost at step 0: 19346132992.000000\n",
      "Validation loss: 15721164800.00\n",
      "Cost at step 5000: 739674752.000000\n",
      "Validation loss: 827345344.00\n",
      "Cost at step 10000: 669507584.000000\n",
      "Validation loss: 747572160.00\n",
      "Cost at step 15000: 633253120.000000\n",
      "Validation loss: 709628352.00\n",
      "Cost at step 20000: 610403520.000000\n",
      "Validation loss: 689392192.00\n",
      "Cost at step 25000: 594457728.000000\n",
      "Validation loss: 678696000.00\n",
      "Cost at step 30000: 582583424.000000\n",
      "Validation loss: 673655744.00\n",
      "Cost at step 35000: 573356416.000000\n",
      "Validation loss: 672179520.00\n",
      "Cost at step 40000: 565982720.000000\n",
      "Validation loss: 673040960.00\n",
      "Cost at step 45000: 559979840.000000\n",
      "Validation loss: 675474368.00\n",
      "Cost at step 50000: 555031680.000000\n",
      "Validation loss: 678971840.00\n",
      "Cost at step 55000: 550916224.000000\n",
      "Validation loss: 683189120.00\n",
      "Cost at step 60000: 547472192.000000\n",
      "Validation loss: 687874176.00\n",
      "Test loss: 781652224.00\n",
      "Model saved in /tmp/linear-model.ckpt\n"
     ]
    }
   ],
   "source": [
    "num_steps = 60001\n",
    "\n",
    "def accuracy(prediction, labels):\n",
    "    return 0.5 * ((prediction - labels) ** 2).mean(axis=None)\n",
    "\n",
    "with tf.Session(graph=graph) as sess:\n",
    "    tf.global_variables_initializer().run()\n",
    "    print('Initialized')\n",
    "    for step in range(num_steps):\n",
    "        # Run the computations. We tell .run() that we want to run the optimizer,\n",
    "        # and get the loss value and the training predictions returned as numpy\n",
    "        # arrays.\n",
    "        _, l, predictions = sess.run([optimizer, loss, train_prediction])\n",
    "        if (step % 5000 == 0):\n",
    "            print('Cost at step %d: %f' % (step, l))\n",
    "            # Calling .eval() on valid_prediction is basically like calling run(), but\n",
    "            # just to get that one numpy array. Note that it recomputes all its graph\n",
    "            # dependencies.\n",
    "            print('Validation loss: %.2f' % accuracy(valid_prediction.eval(), y_valid))\n",
    "        t_pred = test_prediction.eval()\n",
    "    print('Test loss: %.2f' % accuracy(t_pred, y_test))\n",
    "    save_path = saver.save(sess, \"/tmp/linear-model.ckpt\")\n",
    "    print('Model saved in %s' % (save_path))"
   ]
  },
  {
   "cell_type": "code",
   "execution_count": 101,
   "metadata": {},
   "outputs": [
    {
     "data": {
      "image/png": "[encoded data removed]",
      "text/plain": [
       "<matplotlib.figure.Figure at 0x1aa735c3470>"
      ]
     },
     "metadata": {},
     "output_type": "display_data"
    }
   ],
   "source": [
    "plt.plot(y_train)\n",
    "plt.plot(predictions)\n",
    "plt.show()"
   ]
  },
  {
   "cell_type": "code",
   "execution_count": 114,
   "metadata": {},
   "outputs": [
    {
     "name": "stdout",
     "output_type": "stream",
     "text": [
      "INFO:tensorflow:Restoring parameters from /tmp/linear-model.ckpt\n",
      "Model restored.\n",
      "Making predictions...\n"
     ]
    }
   ],
   "source": [
    "# Restore model and make predictions\n",
    "\n",
    "with tf.Session(graph=graph) as sess:\n",
    "    saver.restore(sess, \"/tmp/linear-model.ckpt\")\n",
    "    print(\"Model restored.\\nMaking predictions...\")\n",
    "    x = test_dataset.drop('Id', axis=1).as_matrix().astype(dtype=np.float32)\n",
    "    test_dataset['SalePrice'] = tf.matmul(x, weights) + biases\n",
    "    output = test_dataset[['Id', 'SalePrice']]"
   ]
  },
  {
   "cell_type": "code",
   "execution_count": 115,
   "metadata": {},
   "outputs": [
    {
     "name": "stdout",
     "output_type": "stream",
     "text": [
      "         Id                                          SalePrice\n",
      "0  0.000000  Tensor(\"add_4:0\", shape=(1459, 1), dtype=float32)\n",
      "1  0.000686  Tensor(\"add_4:0\", shape=(1459, 1), dtype=float32)\n",
      "2  0.001372  Tensor(\"add_4:0\", shape=(1459, 1), dtype=float32)\n",
      "3  0.002058  Tensor(\"add_4:0\", shape=(1459, 1), dtype=float32)\n",
      "4  0.002743  Tensor(\"add_4:0\", shape=(1459, 1), dtype=float32)\n"
     ]
    }
   ],
   "source": [
    "print(output.head())"
   ]
  },
  {
   "cell_type": "markdown",
   "metadata": {},
   "source": [
    "## Training with Neural Networks and Regression"
   ]
  },
  {
   "cell_type": "code",
   "execution_count": null,
   "metadata": {
    "collapsed": true
   },
   "outputs": [],
   "source": []
  }
 ],
 "metadata": {
  "kernelspec": {
   "display_name": "Python 3",
   "language": "python",
   "name": "python3"
  },
  "language_info": {
   "codemirror_mode": {
    "name": "ipython",
    "version": 3
   },
   "file_extension": ".py",
   "mimetype": "text/x-python",
   "name": "python",
   "nbconvert_exporter": "python",
   "pygments_lexer": "ipython3",
   "version": "3.6.1"
  }
 },
 "nbformat": 4,
 "nbformat_minor": 2
}
